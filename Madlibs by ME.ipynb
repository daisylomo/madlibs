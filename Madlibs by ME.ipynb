{
 "cells": [
  {
   "cell_type": "code",
   "execution_count": 3,
   "id": "1d58b364",
   "metadata": {},
   "outputs": [
    {
     "name": "stdout",
     "output_type": "stream",
     "text": [
      "animal: cat\n",
      "place: class\n",
      "food: ugali\n",
      "verb: laugh\n",
      "pronoun: hers\n",
      "\n",
      "    I picked up a cat today.\n",
      "    I brought it to class and made sure to feed it a lot of ugali.\n",
      "    I then tried to make it laugh.\n",
      "    It is now hers after the incident ;)\n"
     ]
    }
   ],
   "source": [
    "def madlibs():\n",
    "    #story template\n",
    "    template = \"\"\"\n",
    "    I picked up a {anml} today.\n",
    "    I brought it to {plce} and made sure to feed it a lot of {fd}.\n",
    "    I then tried to make it {vb}.\n",
    "    It is now {pronn} after the incident ;)\"\"\"\n",
    "    \n",
    "    #user input\n",
    "    animal = input(\"animal: \")\n",
    "    place = input(\"place: \")\n",
    "    food = input(\"food: \")\n",
    "    verb = input(\"verb: \")\n",
    "    pronoun = input(\"pronoun: \")\n",
    "    \n",
    "    #completed story\n",
    "    story = template.format(anml = animal, plce = place, fd = food, vb = verb, pronn = pronoun)\n",
    "    print(story)\n",
    "    \n",
    "madlibs()"
   ]
  },
  {
   "cell_type": "code",
   "execution_count": null,
   "id": "db92e767",
   "metadata": {},
   "outputs": [],
   "source": []
  }
 ],
 "metadata": {
  "kernelspec": {
   "display_name": "Python 3 (ipykernel)",
   "language": "python",
   "name": "python3"
  },
  "language_info": {
   "codemirror_mode": {
    "name": "ipython",
    "version": 3
   },
   "file_extension": ".py",
   "mimetype": "text/x-python",
   "name": "python",
   "nbconvert_exporter": "python",
   "pygments_lexer": "ipython3",
   "version": "3.10.9"
  }
 },
 "nbformat": 4,
 "nbformat_minor": 5
}
