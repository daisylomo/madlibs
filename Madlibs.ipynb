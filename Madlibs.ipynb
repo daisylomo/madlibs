{
 "cells": [
  {
   "cell_type": "code",
   "execution_count": 11,
   "id": "8d93e262",
   "metadata": {},
   "outputs": [
    {
     "name": "stdout",
     "output_type": "stream",
     "text": [
      "Enter an adjective: fun\n",
      "Enter a noun: floor\n",
      "Enter a verb: sweep\n",
      "Enter a place: home\n",
      "\n",
      "Your Mad Libs Story:\n",
      "\n",
      "    Once upon a time in a fun land, there was a floor. \n",
      "    One day, the floor decided to sweep to the home. \n",
      "    It was a fun adventure!\n",
      "    \n"
     ]
    }
   ],
   "source": [
    "def madlibs():\n",
    "    # Mad Libs story template\n",
    "    story_template = \"\"\"\n",
    "    Once upon a time in a {adj} land, there was a {noun}. \n",
    "    One day, the {noun} decided to {verb} to the {place}. \n",
    "    It was a {adj} adventure!\n",
    "    \"\"\"\n",
    "\n",
    "    # Ask the user for words to fill in the blanks\n",
    "    adjective = input(\"Enter an adjective: \")\n",
    "    noun = input(\"Enter a noun: \")\n",
    "    verb = input(\"Enter a verb: \")\n",
    "    place = input(\"Enter a place: \")\n",
    "\n",
    "    # Fill in the blanks with user input\n",
    "    madlib_story = story_template.format(adj=adjective, noun=noun, verb=verb, place=place)\n",
    "\n",
    "    # Display the completed Mad Libs story\n",
    "    print(\"\\nYour Mad Libs Story:\")\n",
    "    print(madlib_story)\n",
    "\n",
    "# Call the madlibs function to play the game\n",
    "madlibs()\n"
   ]
  },
  {
   "cell_type": "code",
   "execution_count": 14,
   "id": "6e67bcf3",
   "metadata": {},
   "outputs": [
    {
     "name": "stdout",
     "output_type": "stream",
     "text": [
      "enter: daisy\n",
      "i am daisy\n"
     ]
    }
   ],
   "source": [
    "intro = \"i am {name}\"\n",
    "name = input(\"enter: \")\n",
    "print(intro.format(name=name))"
   ]
  },
  {
   "cell_type": "code",
   "execution_count": 4,
   "id": "8d463ab6",
   "metadata": {},
   "outputs": [
    {
     "name": "stdout",
     "output_type": "stream",
     "text": [
      "enter: daisy\n"
     ]
    }
   ],
   "source": [
    "intro = \"i am {name}\"\n",
    "name = input(\"enter: \")"
   ]
  },
  {
   "cell_type": "code",
   "execution_count": null,
   "id": "4b5953b0",
   "metadata": {},
   "outputs": [],
   "source": []
  }
 ],
 "metadata": {
  "kernelspec": {
   "display_name": "Python 3 (ipykernel)",
   "language": "python",
   "name": "python3"
  },
  "language_info": {
   "codemirror_mode": {
    "name": "ipython",
    "version": 3
   },
   "file_extension": ".py",
   "mimetype": "text/x-python",
   "name": "python",
   "nbconvert_exporter": "python",
   "pygments_lexer": "ipython3",
   "version": "3.10.9"
  }
 },
 "nbformat": 4,
 "nbformat_minor": 5
}
